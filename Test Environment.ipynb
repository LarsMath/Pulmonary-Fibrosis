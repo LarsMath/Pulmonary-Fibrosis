{
 "cells": [
  {
   "cell_type": "code",
   "execution_count": null,
   "metadata": {},
   "outputs": [],
   "source": []
  },
  {
   "cell_type": "markdown",
   "metadata": {},
   "source": [
    "## Neural Network"
   ]
  },
  {
   "cell_type": "code",
   "execution_count": 42,
   "metadata": {},
   "outputs": [],
   "source": [
    "import numpy as np\n",
    "import pandas as pd\n",
    "import tensorflow as tf\n",
    "import tensorflow.keras.backend as K\n",
    "from tqdm import tqdm"
   ]
  },
  {
   "cell_type": "code",
   "execution_count": 43,
   "metadata": {},
   "outputs": [],
   "source": [
    "#Amount of features inputted in NN\n",
    "NUMBER_FEATURES = 8\n",
    "\n",
    "#Gaussian Noise\n",
    "USE_GAUSSIAN_NOISE = False\n",
    "VALUE_GAUSSIAN_NOISE = 70 # Only needed when Gaussian noise = True\n",
    "\n",
    "\n",
    "config = dict(NUMBER_FEATURES = NUMBER_FEATURES, USE_GAUSSIAN_NOISE = USE_GAUSSIAN_NOISE, \n",
    "              VALUE_GAUSSIAN_NOISE = VALUE_GAUSSIAN_NOISE)"
   ]
  },
  {
   "cell_type": "code",
   "execution_count": null,
   "metadata": {},
   "outputs": [],
   "source": [
    "use_gaussian_noise = config[\"USE_GAUSSIAN_NOISE\"]\n",
    "value_gaussian_noise = config[\"VALUE_GAUSSIAN_NOISE\"]\n",
    "\n",
    "if use_gaussian_noise:\n",
    "    inp = tf.keras.layers.GaussianNoise(value_gaussian_noise)(inp)\n",
    "\n"
   ]
  },
  {
   "cell_type": "code",
   "execution_count": 52,
   "metadata": {},
   "outputs": [],
   "source": [
    "import numpy as np\n",
    "import pandas as pd\n",
    "import tensorflow as tf\n",
    "import tensorflow.keras.backend as K\n",
    "from tqdm import tqdm\n",
    "\n",
    "#Amount of features inputted in NN\n",
    "NUMBER_FEATURES = 8\n",
    "\n",
    "#Gaussian Noise\n",
    "USE_GAUSSIAN_NOISE = False\n",
    "VALUE_GAUSSIAN_NOISE = 70 # Only needed when Gaussian noise = True\n",
    "\n",
    "\n",
    "config = dict(NUMBER_FEATURES = NUMBER_FEATURES, USE_GAUSSIAN_NOISE = USE_GAUSSIAN_NOISE, \n",
    "              VALUE_GAUSSIAN_NOISE = VALUE_GAUSSIAN_NOISE)\n",
    "\n",
    "def build_model(config):\n",
    "    size = config[\"NUMBER_FEATURES\"]\n",
    "\n",
    "    inp = tf.keras.layers.Input(shape=(1,size), name = \"input_features\")\n",
    "    \n",
    "    inp2 = tf.keras.layers.Input(shape = (1,1), name = \"FVC_Start_Weeks_from_start\")\n",
    "    \n",
    "    inputs = [inp]\n",
    "    outputs = []\n",
    "    \n",
    "    x = tf.keras.layers.Dense(100, activation='relu')(inp)\n",
    "    x = tf.keras.layers.Dense(75, activation='relu')(x)\n",
    "    x = tf.keras.layers.Dense(50, activation='relu')(x)\n",
    "    x = tf.keras.layers.Dense(25, activation='relu')(x)\n",
    "    x = tf.keras.layers.Dense(15, activation='relu')(x)\n",
    "    x = tf.keras.layers.Dense(10, activation='relu')(x)\n",
    "\n",
    "    \n",
    "    # output : [slope, s, FVC_start, weeks_from_start]\n",
    "    outputs += [tf.keras.layers.Dense(2, name = \"Output_a_s\")(x)]\n",
    "\n",
    "    model = tf.keras.Model(inputs = inputs, outputs = outputs)\n",
    "    \n",
    "    def Laplace_log_likelihood(y_true, y_pred):\n",
    "        # y_pred = [slope, s, FVC_start, weeks_from_start]\n",
    "        tf.dtypes.cast(y_true, tf.float32)\n",
    "        tf.dtypes.cast(y_pred, tf.float32)\n",
    "        \n",
    "        slope = y_pred[:,0]\n",
    "        s = y_pred[:,1]\n",
    "        \n",
    "        FVC_now = y_true[:,0]\n",
    "        weeks_from_start = y_true[:,1]\n",
    "        FVC_start = y_true[:,2]\n",
    "        \n",
    "        sigma = s * weeks_from_start\n",
    "        \n",
    "        # Kan probleem worden by ReLu omdat slope negatief wordt door minimalisering Loss\n",
    "        FVC_pred = weeks_from_start * slope + FVC_start\n",
    "\n",
    "        ## ** Hier kan een fout komen doordat de afgeleide moeilijker te berekenen is\n",
    "        sigma_clip = tf.maximum(tf.abs(sigma), 70)*2\n",
    "        delta = tf.abs(FVC_now - FVC_pred)\n",
    "        delta = tf.minimum(delta, 1000)\n",
    "        ## **\n",
    "        \n",
    "        sq2 = tf.sqrt(tf.dtypes.cast(2, dtype=tf.float32))\n",
    "        loss = (delta / sigma_clip)*sq2 + tf.math.log(sigma_clip * sq2)\n",
    "        return K.mean(loss)\n",
    "    \n",
    "    opt = tf.keras.optimizers.Adam(1e-5)\n",
    "    \n",
    "    model.compile(optimizer=opt, loss=Laplace_log_likelihood)#, loss_weights = [...])\n",
    "\n",
    "    return model"
   ]
  },
  {
   "cell_type": "code",
   "execution_count": 53,
   "metadata": {
    "scrolled": false
   },
   "outputs": [],
   "source": [
    "model = build_model(config)\n",
    "#tf.keras.utils.plot_model(model)\n",
    "model.summary()"
   ]
  },
  {
   "cell_type": "markdown",
   "metadata": {},
   "source": [
    "## Preparing the Data"
   ]
  },
  {
   "cell_type": "code",
   "execution_count": null,
   "metadata": {},
   "outputs": [],
   "source": [
    "df = pd.read_csv('../input/osic-pulmonary-fibrosis-progression/train.csv')\n",
    "alldatapoints = []\n",
    "for patient in df.Patient.unique():\n",
    "    patientperweek = []\n",
    "    weeks = df.loc[df.Patient == patient]['Weeks']\n",
    "    for week1 in weeks:\n",
    "        dfnew = df.loc[(df.Patient == patient) & (df.Weeks != week1)]\n",
    "        dfnew = dfnew.assign(Targetweek = week1)\n",
    "        dfnew = dfnew.assign(TargetFVC = df.loc[(df.Patient == patient)&(df.Weeks == week1)]['FVC'].values[0])\n",
    "        patientperweek.append(dfnew)\n",
    "    alldatapoints.append(pd.concat(patientperweek))\n",
    "\n",
    "train = pd.DataFrame(pd.concat(alldatapoints))    \n",
    "train[\"Sex\"] = (train['Sex']==\"Male\").astype(int)\n",
    "train = pd.concat([train,pd.get_dummies(train['SmokingStatus'])],axis = 1).reset_index(drop = True)\n",
    "labels = pd.DataFrame(train[[\"TargetFVC\",\"Targetweek\",\"FVC\"]])\n",
    "labels = labels.astype(\"float32\")\n",
    "train = train.drop([\"SmokingStatus\", \"TargetFVC\", \"Patient\"],axis = 1)\n",
    "\n",
    "for i in range(len(train)):\n",
    "    train.loc[i, \"Targetweek\"] = train.loc[i, \"Targetweek\"] - train.loc[i, \"Weeks\"]"
   ]
  },
  {
   "cell_type": "code",
   "execution_count": null,
   "metadata": {},
   "outputs": [],
   "source": [
    "data = {\"input_features\": train[[\"Weeks\", \"FVC\", \"Percent\", \"Age\", \"Sex\", \n",
    "                                 \"Currently smokes\", \"Ex-smoker\", \"Never smoked\"]]\n",
    "        , \"FVC_Start_Weeks_from_start\": train[\"Targetweek\"]}"
   ]
  },
  {
   "cell_type": "code",
   "execution_count": null,
   "metadata": {},
   "outputs": [],
   "source": [
    "# from sklearn.model_selection import train_test_split\n",
    "# x_train, x_valid, y_train, y_valid = train_test_split(data[\"input_features\"], labels, test_size=0.33, shuffle= True)\n",
    "\n",
    "# Hierbegint nieuwe patient dus soort van stratified\n",
    "x_train = data[\"input_features\"][:10004]\n",
    "y_train = labels[:10004]\n",
    "\n",
    "x_val = data[\"input_features\"][10004:]\n",
    "y_val = labels[10004:]"
   ]
  },
  {
   "cell_type": "code",
   "execution_count": null,
   "metadata": {},
   "outputs": [],
   "source": [
    "model.fit(x_train, \n",
    "          y_train, validation_data = (x_val,y_val),epochs = 20)"
   ]
  },
  {
   "cell_type": "code",
   "execution_count": null,
   "metadata": {},
   "outputs": [],
   "source": [
    "a = model.predict(data[\"input_features\"])\n",
    "sns.distplot(a[:,0])\n",
    "sns.distplot(a[:,1])"
   ]
  }
 ],
 "metadata": {
  "kernelspec": {
   "display_name": "Python 3",
   "language": "python",
   "name": "python3"
  },
  "language_info": {
   "codemirror_mode": {
    "name": "ipython",
    "version": 3
   },
   "file_extension": ".py",
   "mimetype": "text/x-python",
   "name": "python",
   "nbconvert_exporter": "python",
   "pygments_lexer": "ipython3",
   "version": "3.7.6"
  }
 },
 "nbformat": 4,
 "nbformat_minor": 4
}
