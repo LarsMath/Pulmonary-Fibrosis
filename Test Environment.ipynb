{
 "cells": [
  {
   "cell_type": "code",
   "execution_count": null,
   "metadata": {},
   "outputs": [],
   "source": []
  },
  {
   "cell_type": "markdown",
   "metadata": {},
   "source": [
    "## Neural Network"
   ]
  },
  {
   "cell_type": "code",
   "execution_count": 2,
   "metadata": {},
   "outputs": [],
   "source": [
    "import numpy as np\n",
    "import pandas as pd\n",
    "import tensorflow as tf\n",
    "import tensorflow.keras.backend as K\n",
    "from tqdm import tqdm"
   ]
  },
  {
   "cell_type": "code",
   "execution_count": null,
   "metadata": {},
   "outputs": [],
   "source": [
    "#Amount of features inputted in NN\n",
    "NUMBER_FEATURES = 5\n",
    "\n",
    "#Gaussian Noise\n",
    "USE_GAUSSIAN_NOISE = False\n",
    "VALUE_GAUSSIAN_NOISE = 70 # Only needed when Gaussian noise = True\n",
    "\n",
    "\n",
    "config = dict(NUMBER_FEATURES = NUMBER_FEATUERS, USE_GAUSSIAN_NOISE = USE_GAUSSIAN_NOISE, \n",
    "              VALUE_GAUSSIAN_NOISE = VALUE_GAUSSIAN_NOISE)"
   ]
  },
  {
   "cell_type": "code",
   "execution_count": null,
   "metadata": {},
   "outputs": [],
   "source": [
    "use_gaussian_noise = config[\"USE_GAUSSIAN_NOISE\"]\n",
    "value_gaussian_noise = config[\"VALUE_GAUSSIAN_NOISE\"]\n",
    "\n",
    "if use_gaussian_noise:\n",
    "    inp = tf.keras.layers.GaussianNoise(value_gaussian_noise)(inp)\n",
    "\n"
   ]
  },
  {
   "cell_type": "code",
   "execution_count": 5,
   "metadata": {},
   "outputs": [],
   "source": [
    "def build_model(config):\n",
    "    size = config[\"NUMBER_FEATURES\"]\n",
    "\n",
    "    inp = tf.keras.layers.Input(shape=size, name = \"input_features\")\n",
    "    \n",
    "    inp2 = tf.keras.layers.Input(shape = 2, name = \"FVC_Start & Weeks_from_start\")\n",
    "    \n",
    "    inputs = [inp, inp2]\n",
    "    outputs = [inp2]\n",
    "    \n",
    "    x = tf.keras.layers.Dense(10, activation='relu')(inp)\n",
    "    x = tf.keras.layers.Dense(10, activation='relu')(x)\n",
    "    \n",
    "    # output : [slope, s, FVC_start, weeks_from_start]\n",
    "    outputs += tf.keras.layers.Dense(2, name = \"Output_a_s\")(x)\n",
    "    \n",
    "    model = Model(inputs = inputs, outputs = outputs)\n",
    "    \n",
    "    def Laplace_log_likelihood(y_true, y_pred):\n",
    "        # y_pred = [slope, s, FVC_start, weeks_from_start]\n",
    "        tf.dtypes.cast(y_true, tf.float32)\n",
    "        tf.dtypes.cast(y_pred, tf.float32)\n",
    "        \n",
    "        slope = y_pred[:,0]\n",
    "        s = y_pred[:,1]\n",
    "        FVC_start = y_pred[:,2]\n",
    "        weeks_from_start = y_pred[:,3]\n",
    "        \n",
    "        sigma = s * weeks_from_start\n",
    "        \n",
    "        # Kan probleem worden by ReLu omdat slope negatief wordt door minimalisering Loss\n",
    "        FVC_pred = weeks_from_start * slope + FVC_start\n",
    "\n",
    "        ## ** Hier kan een fout komen doordat de afgeleide moeilijker te berekenen is\n",
    "        sigma_clip = tf.maximum(tf.abs(sigma), 70)\n",
    "        delta = tf.abs(y_true[:, 0] - FVC_pred)\n",
    "        delta = tf.minimum(delta, 1000)\n",
    "        ## **\n",
    "        \n",
    "        sq2 = tf.sqrt(tf.dtypes.cast(2, dtype=tf.float32))\n",
    "        loss = (delta / sigma_clip)*sq2 + tf.math.log(sigma_clip * sq2)\n",
    "        return K.mean(loss)\n",
    "    \n",
    "    loss = score\n",
    "    opt = tf.keras.optimizers.Adam(1e-5)\n",
    "    \n",
    "    model.compile(optimizer=opt, loss = Laplace_log_likelihood)#, loss_weights = [...])\n",
    "\n",
    "    return model"
   ]
  }
 ],
 "metadata": {
  "kernelspec": {
   "display_name": "Python 3",
   "language": "python",
   "name": "python3"
  },
  "language_info": {
   "codemirror_mode": {
    "name": "ipython",
    "version": 3
   },
   "file_extension": ".py",
   "mimetype": "text/x-python",
   "name": "python",
   "nbconvert_exporter": "python",
   "pygments_lexer": "ipython3",
   "version": "3.7.6"
  }
 },
 "nbformat": 4,
 "nbformat_minor": 4
}
