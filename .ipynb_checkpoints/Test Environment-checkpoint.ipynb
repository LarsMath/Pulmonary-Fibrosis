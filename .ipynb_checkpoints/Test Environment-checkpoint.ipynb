{
 "cells": [
  {
   "cell_type": "markdown",
   "metadata": {},
   "source": [
    "## Setup"
   ]
  },
  {
   "cell_type": "code",
   "execution_count": 1,
   "metadata": {},
   "outputs": [],
   "source": [
    "import numpy as np\n",
    "import pandas as pd\n",
    "import tensorflow as tf\n",
    "import tensorflow.keras.backend as K\n",
    "from tqdm import tqdm\n",
    "import seaborn as sns\n",
    "import wandb\n",
    "from wandb.keras import WandbCallback\n",
    "import keras\n",
    "from keras.models import Sequential\n",
    "\n",
    "from pfutils import (get_test_data, get_train_data, get_pseudo_test_data,\n",
    "                     build_model, get_cosine_annealing_lr_callback, get_fold_indices)\n",
    "\n",
    "WANDB = True\n",
    "TEST = False\n",
    "DATA_GENERATOR = True\n",
    "\n",
    "#If TEST is False use this to simulate tractable testcases. Should be 0 if TEST = True\n",
    "PSEUDO_TEST_PATIENTS = 0\n",
    "if TEST:\n",
    "    PSEUDO_TEST_PATIENTS = 0"
   ]
  },
  {
   "cell_type": "code",
   "execution_count": 2,
   "metadata": {},
   "outputs": [
    {
     "ename": "BackendError",
     "evalue": "Unexpected response from the service. Response: {'errors': ['No user secrets exist for kernel id 11345331 and label wandb.'], 'error': {'code': 5}, 'wasSuccessful': False}.",
     "output_type": "error",
     "traceback": [
      "\u001b[0;31m---------------------------------------------------------------------------\u001b[0m",
      "\u001b[0;31mBackendError\u001b[0m                              Traceback (most recent call last)",
      "\u001b[0;32m<ipython-input-2-8a7e50f2a7c3>\u001b[0m in \u001b[0;36m<module>\u001b[0;34m\u001b[0m\n\u001b[1;32m      2\u001b[0m \u001b[0;32mfrom\u001b[0m \u001b[0mkaggle_secrets\u001b[0m \u001b[0;32mimport\u001b[0m \u001b[0mUserSecretsClient\u001b[0m\u001b[0;34m\u001b[0m\u001b[0;34m\u001b[0m\u001b[0m\n\u001b[1;32m      3\u001b[0m \u001b[0muser_secrets\u001b[0m \u001b[0;34m=\u001b[0m \u001b[0mUserSecretsClient\u001b[0m\u001b[0;34m(\u001b[0m\u001b[0;34m)\u001b[0m\u001b[0;34m\u001b[0m\u001b[0;34m\u001b[0m\u001b[0m\n\u001b[0;32m----> 4\u001b[0;31m \u001b[0mwandb_key\u001b[0m \u001b[0;34m=\u001b[0m \u001b[0muser_secrets\u001b[0m\u001b[0;34m.\u001b[0m\u001b[0mget_secret\u001b[0m\u001b[0;34m(\u001b[0m\u001b[0;34m\"wandb\"\u001b[0m\u001b[0;34m)\u001b[0m\u001b[0;34m\u001b[0m\u001b[0;34m\u001b[0m\u001b[0m\n\u001b[0m\u001b[1;32m      5\u001b[0m \u001b[0;32massert\u001b[0m \u001b[0mwandb_key\u001b[0m\u001b[0;34m,\u001b[0m \u001b[0;34m\"Please create a key.txt or Kaggle Secret with your W&B API key\"\u001b[0m\u001b[0;34m\u001b[0m\u001b[0;34m\u001b[0m\u001b[0m\n\u001b[1;32m      6\u001b[0m \u001b[0;34m\u001b[0m\u001b[0m\n",
      "\u001b[0;32m~/.local/lib/python3.7/site-packages/kaggle_secrets.py\u001b[0m in \u001b[0;36mget_secret\u001b[0;34m(self, label)\u001b[0m\n\u001b[1;32m     59\u001b[0m             \u001b[0;34m'Label'\u001b[0m\u001b[0;34m:\u001b[0m \u001b[0mlabel\u001b[0m\u001b[0;34m,\u001b[0m\u001b[0;34m\u001b[0m\u001b[0;34m\u001b[0m\u001b[0m\n\u001b[1;32m     60\u001b[0m         }\n\u001b[0;32m---> 61\u001b[0;31m         \u001b[0mresponse_json\u001b[0m \u001b[0;34m=\u001b[0m \u001b[0mself\u001b[0m\u001b[0;34m.\u001b[0m\u001b[0mweb_client\u001b[0m\u001b[0;34m.\u001b[0m\u001b[0mmake_post_request\u001b[0m\u001b[0;34m(\u001b[0m\u001b[0mrequest_body\u001b[0m\u001b[0;34m,\u001b[0m \u001b[0mself\u001b[0m\u001b[0;34m.\u001b[0m\u001b[0mGET_USER_SECRET_BY_LABEL_ENDPOINT\u001b[0m\u001b[0;34m)\u001b[0m\u001b[0;34m\u001b[0m\u001b[0;34m\u001b[0m\u001b[0m\n\u001b[0m\u001b[1;32m     62\u001b[0m         \u001b[0;32mif\u001b[0m \u001b[0;34m'secret'\u001b[0m \u001b[0;32mnot\u001b[0m \u001b[0;32min\u001b[0m \u001b[0mresponse_json\u001b[0m\u001b[0;34m:\u001b[0m\u001b[0;34m\u001b[0m\u001b[0;34m\u001b[0m\u001b[0m\n\u001b[1;32m     63\u001b[0m             raise BackendError(\n",
      "\u001b[0;32m~/.local/lib/python3.7/site-packages/kaggle_web_client.py\u001b[0m in \u001b[0;36mmake_post_request\u001b[0;34m(self, data, endpoint, timeout)\u001b[0m\n\u001b[1;32m     46\u001b[0m                 \u001b[0;32mif\u001b[0m \u001b[0;32mnot\u001b[0m \u001b[0mresponse_json\u001b[0m\u001b[0;34m.\u001b[0m\u001b[0mget\u001b[0m\u001b[0;34m(\u001b[0m\u001b[0;34m'wasSuccessful'\u001b[0m\u001b[0;34m)\u001b[0m \u001b[0;32mor\u001b[0m \u001b[0;34m'result'\u001b[0m \u001b[0;32mnot\u001b[0m \u001b[0;32min\u001b[0m \u001b[0mresponse_json\u001b[0m\u001b[0;34m:\u001b[0m\u001b[0;34m\u001b[0m\u001b[0;34m\u001b[0m\u001b[0m\n\u001b[1;32m     47\u001b[0m                     raise BackendError(\n\u001b[0;32m---> 48\u001b[0;31m                         f'Unexpected response from the service. Response: {response_json}.')\n\u001b[0m\u001b[1;32m     49\u001b[0m                 \u001b[0;32mreturn\u001b[0m \u001b[0mresponse_json\u001b[0m\u001b[0;34m[\u001b[0m\u001b[0;34m'result'\u001b[0m\u001b[0;34m]\u001b[0m\u001b[0;34m\u001b[0m\u001b[0;34m\u001b[0m\u001b[0m\n\u001b[1;32m     50\u001b[0m         \u001b[0;32mexcept\u001b[0m \u001b[0;34m(\u001b[0m\u001b[0mURLError\u001b[0m\u001b[0;34m,\u001b[0m \u001b[0msocket\u001b[0m\u001b[0;34m.\u001b[0m\u001b[0mtimeout\u001b[0m\u001b[0;34m)\u001b[0m \u001b[0;32mas\u001b[0m \u001b[0me\u001b[0m\u001b[0;34m:\u001b[0m\u001b[0;34m\u001b[0m\u001b[0;34m\u001b[0m\u001b[0m\n",
      "\u001b[0;31mBackendError\u001b[0m: Unexpected response from the service. Response: {'errors': ['No user secrets exist for kernel id 11345331 and label wandb.'], 'error': {'code': 5}, 'wasSuccessful': False}."
     ]
    }
   ],
   "source": [
    "# retrieve W&B key\n",
    "from kaggle_secrets import UserSecretsClient\n",
    "user_secrets = UserSecretsClient()\n",
    "wandb_key = user_secrets.get_secret(\"wandb_key\")\n",
    "assert wandb_key, \"Please create a key.txt or Kaggle Secret with your W&B API key\"\n",
    "\n",
    "#wandb_key = \"24020b558f39257d30a084a55cb438922c321495\"\n",
    "\n",
    "!pip install -q --upgrade wandb\n",
    "!wandb login $wandb_key"
   ]
  },
  {
   "cell_type": "markdown",
   "metadata": {},
   "source": [
    "## Preparing the Data"
   ]
  },
  {
   "cell_type": "code",
   "execution_count": null,
   "metadata": {},
   "outputs": [],
   "source": [
    "## !!!! https://stanford.edu/~shervine/blog/keras-how-to-generate-data-on-the-fly\n",
    "\n",
    "# Dit is voor data generation on the fly voor bijv gaussian noise"
   ]
  },
  {
   "cell_type": "markdown",
   "metadata": {},
   "source": [
    "## Settings And network"
   ]
  },
  {
   "cell_type": "code",
   "execution_count": null,
   "metadata": {},
   "outputs": [],
   "source": [
    "# Number of folds. A number between 1 and 176-PSEUDO_TEST_PATIENTS\n",
    "FOLDS = 10\n",
    "\n",
    "#Batch size\n",
    "BATCH_SIZE = 128\n",
    "\n",
    "#Amount of features inputted in NN\n",
    "NUMBER_FEATURES = 9\n",
    "\n",
    "#Hidden layers\n",
    "HIDDEN_LAYERS = [64,32,16,8,4]\n",
    "\n",
    "#State whether model should predict slope or single weeks\n",
    "#Predicting the slope is making the assumption that the decrease is linear\n",
    "PREDICT_SLOPE = False\n",
    "\n",
    "#Gaussian Noise\n",
    "USE_GAUSSIAN_ON_FVC = False \n",
    "VALUE_GAUSSIAN_NOISE_ON_FVC = 70 # Only needed when Gaussian noise = True\n",
    "                                     \n",
    "#Activation function to use ('swish' or 'relu')\n",
    "ACTIVATION_FUNCTION = 'swish'\n",
    "\n",
    "#Dropout rate\n",
    "DROP_OUT_RATE = 0\n",
    "DROP_OUT_LAYERS = [] # [0,1,2] voor dropout in de eerste 3 lagen\n",
    "\n",
    "#Train length\n",
    "EPOCHS = 250\n",
    "STEPS_PER_EPOCH = 100\n",
    "\n",
    "#L2-Regularization\n",
    "L2_REGULARIZATION = False\n",
    "REGULARIZATION_CONSTANT = 0.005\n",
    "\n",
    "#Input and/or output normalization\n",
    "INPUT_NORMALIZATION = True\n",
    "OUTPUT_NORMALIZATION = True\n",
    "\n",
    "#Learning rate\n",
    "MAX_LEARNING_RATE = 5e-4\n",
    "COSINE_CYCLES = 10\n",
    "\n",
    "MODEL_NAME = \"Baseline64\"\n",
    "\n",
    "config = dict(NUMBER_FEATURES = NUMBER_FEATURES, L2_REGULARIZATION = L2_REGULARIZATION, INPUT_NORMALIZATION =INPUT_NORMALIZATION,\n",
    "              ACTIVATION_FUNCTION = ACTIVATION_FUNCTION, DROP_OUT_RATE = DROP_OUT_RATE, OUTPUT_NORMALIZATION = OUTPUT_NORMALIZATION,\n",
    "              EPOCHS = EPOCHS, STEPS_PER_EPOCH = STEPS_PER_EPOCH, MAX_LEARNING_RATE = MAX_LEARNING_RATE,\n",
    "              COSINE_CYCLES = COSINE_CYCLES, MODEL_NAME=MODEL_NAME, USE_GAUSSIAN_ON_FVC=USE_GAUSSIAN_ON_FVC,\n",
    "              VALUE_GAUSSIAN_NOISE_ON_FVC=VALUE_GAUSSIAN_NOISE_ON_FVC, PREDICT_SLOPE = PREDICT_SLOPE,\n",
    "              HIDDEN_LAYERS = HIDDEN_LAYERS, REGULARIZATION_CONSTANT = REGULARIZATION_CONSTANT,\n",
    "              DROP_OUT_LAYERS = DROP_OUT_LAYERS, BATCH_SIZE = BATCH_SIZE)"
   ]
  },
  {
   "cell_type": "code",
   "execution_count": null,
   "metadata": {},
   "outputs": [],
   "source": [
    "if TEST:\n",
    "    test_data, submission = get_test_data(\"../input/osic-pulmonary-fibrosis-progression/test.csv\")\n",
    "    \n",
    "train, data, labels = get_train_data('../input/osic-pulmonary-fibrosis-progression/train.csv', PSEUDO_TEST_PATIENTS, INPUT_NORMALIZATION)\n",
    "\n",
    "if PSEUDO_TEST_PATIENTS > 0:\n",
    "    test_data, test_check = get_pseudo_test_data('../input/osic-pulmonary-fibrosis-progression/train.csv', PSEUDO_TEST_PATIENTS)"
   ]
  },
  {
   "cell_type": "code",
   "execution_count": null,
   "metadata": {
    "scrolled": true
   },
   "outputs": [],
   "source": [
    "model = build_model(config)\n",
    "#tf.keras.utils.plot_model(model)\n",
    "model.summary()"
   ]
  },
  {
   "cell_type": "markdown",
   "metadata": {},
   "source": [
    "## Folds and Training"
   ]
  },
  {
   "cell_type": "code",
   "execution_count": null,
   "metadata": {},
   "outputs": [],
   "source": [
    "fold_pos = get_fold_indices(FOLDS, train)\n",
    "print(fold_pos)"
   ]
  },
  {
   "cell_type": "code",
   "execution_count": null,
   "metadata": {},
   "outputs": [],
   "source": [
    "lr_cb = get_cosine_annealing_lr_callback(lr_max=config[\"MAX_LEARNING_RATE\"], \n",
    "                                            n_epochs=config[\"EPOCHS\"], \n",
    "                                            n_cycles=config[\"COSINE_CYCLES\"])"
   ]
  },
  {
   "cell_type": "code",
   "execution_count": null,
   "metadata": {},
   "outputs": [],
   "source": [
    "class DataGenerator(keras.utils.Sequence):\n",
    "    def __init__(self, list_IDs, validation = False, config, number_of_labels = 3,\n",
    "                 batch_size = 128, shuffle = True):\n",
    "        self.number_features = int(config[\"NUMBER_FEATURES\"])\n",
    "        self.use_gaussian = config[\"USE_GAUSSIAN_ON_FVC\"]\n",
    "        self.gauss_std = config[\"VALUE_GAUSSIAN_NOISE_ON_FVC\"] and not validation\n",
    "        self.list_IDs = list_IDs\n",
    "        self.batch_size = config[\"BATCH_SIZE\"]\n",
    "        self.labels = labels\n",
    "        self.shuffle = shuffle\n",
    "        self.on_epoch_end()\n",
    "        self.label_size = number_of_labels\n",
    "        self.normalized = config[\"INPUT_NORMALIZATION\"]\n",
    "    \n",
    "    def __len__(self):\n",
    "        return int(np.floor(len(self.list_IDs)/self.batch_size))\n",
    "    \n",
    "    def __getitem__(self, index):\n",
    "        'Generate one batch of data'\n",
    "        # Generate indexes of the batch\n",
    "        indexes = self.indexes[index*self.batch_size:(index+1)*self.batch_size]\n",
    "        list_IDs_temp = [self.list_IDs[k] for k in indexes]\n",
    "        # Generate data\n",
    "        X, y = self.__data_generation(list_IDs_temp)\n",
    "        return X, y\n",
    "\n",
    "    def on_epoch_end(self):\n",
    "        'Updates indexes after each epoch'\n",
    "        self.indexes = np.arange(len(self.list_IDs))\n",
    "        if self.shuffle == True:\n",
    "            np.random.shuffle(self.indexes)\n",
    "\n",
    "    def __data_generation(self, list_IDs_temp):\n",
    "        'Generates data containing batch_size samples' # X : (n_samples, *dim, n_channels)\n",
    "        # Initialization\n",
    "        X = np.empty((self.batch_size, self.number_features))\n",
    "        y = np.empty((self.batch_size, self.label_size), dtype=int)\n",
    "        \n",
    "        data = np.load(\"./train_data.npy\", allow_pickle = True)\n",
    "        lab = np.load(\"./train_labels.npy\", allow_pickle = True)\n",
    "        \n",
    "        gauss = np.asarray(0)\n",
    "        \n",
    "        if self.use_gaussian:\n",
    "            gauss = np.random.normal(0, self.gauss_std, size = self.batch_size)\n",
    "        \n",
    "        for i, ID in enumerate(list_IDs_temp):\n",
    "            X[i,] = np.asarray(data[ID], dtype = \"float32\")\n",
    "            y[i,] = np.asarray(lab[ID], dtype = \"float32\")\n",
    "        \n",
    "        if normalized:\n",
    "            X[:,1] += gauss.astype(\"float32\")/5800 \n",
    "        else:\n",
    "            X[:,1] += gauss.astype(\"float32\")\n",
    "        \n",
    "        y = np.asarray(y,dtype = \"float32\")\n",
    "        y[:,2] += gauss.astype(\"float32\")\n",
    "        \n",
    "        return X, y"
   ]
  },
  {
   "cell_type": "code",
   "execution_count": null,
   "metadata": {},
   "outputs": [],
   "source": [
    "if DATA_GENERATOR:\n",
    "    train_data = train[[\"Weeks\", \"FVC\", \"Percent\", \"Age\", \"Sex\", \n",
    "                                 \"Currently smokes\", \"Ex-smoker\", \"Never smoked\", \"Weekdiff_target\"]]\n",
    "    train_labels = labels\n",
    "    np.save(\"train_data.npy\", train_data.to_numpy())\n",
    "    np.save(\"train_labels.npy\", train_labels.to_numpy())"
   ]
  },
  {
   "cell_type": "code",
   "execution_count": null,
   "metadata": {},
   "outputs": [],
   "source": [
    "predictions = []\n",
    "\n",
    "for fold in range(FOLDS):\n",
    "    if DATA_GENERATOR:\n",
    "        train_ID = list(range(fold_pos[0],fold_pos[fold])) + list(range(fold_pos[fold+1],len(train)))\n",
    "        val_ID = list(range(fold_pos[fold], fold_pos[fold+1]))\n",
    "        # Generators\n",
    "        training_generator = DataGenerator(train_ID, config)\n",
    "        validation_generator = DataGenerator(val_ID, config, validation = True)\n",
    "    else:\n",
    "        x_train = data[\"input_features\"][:fold_pos[fold]].append(data[\"input_features\"][fold_pos[fold+1]:])\n",
    "        y_train = labels[:fold_pos[fold]].append(labels[fold_pos[fold+1]:])\n",
    "        x_val = data[\"input_features\"][fold_pos[fold]:fold_pos[fold+1]]\n",
    "        y_val = labels[fold_pos[fold]:fold_pos[fold+1]]\n",
    "    \n",
    "    model = build_model(config)\n",
    "    \n",
    "    sv = tf.keras.callbacks.ModelCheckpoint(\n",
    "    'fold-%i.h5'%fold, monitor='val_loss', verbose=0, save_best_only=True,\n",
    "    save_weights_only=True, mode='min', save_freq='epoch')\n",
    "    callbacks = [sv]\n",
    "\n",
    "    print(fold+1, \"of\", FOLDS)\n",
    "    if WANDB:\n",
    "        name = MODEL_NAME + '-F{}'.format(fold+1)\n",
    "        config.update({'fold': fold+1})\n",
    "        wandb.init(project=\"pulfib\", name=name, config=config)\n",
    "        wandb_cb = WandbCallback()\n",
    "        callbacks.append(wandb_cb)\n",
    "        \n",
    "    if DATA_GENERATOR:\n",
    "        history = model.fit(training_generator, validation_data = validation_generator, epochs = EPOCHS,\n",
    "                            steps_per_epoch = STEPS_PER_EPOCH, verbose = 0, callbacks = callbacks)\n",
    "    else:\n",
    "        history = model.fit(x_train, y_train, validation_data = (x_val,y_val), epochs = EPOCHS,\n",
    "                            steps_per_epoch = STEPS_PER_EPOCH, verbose = 2, callbacks = callbacks)\n",
    "\n",
    "    if TEST or PSEUDO_TEST_PATIENTS > 0:\n",
    "        model.load_weights('fold-%i.h5'%fold)\n",
    "        predictions.append(model.predict(test_data, batch_size = 256))\n",
    "    \n",
    "    if WANDB:\n",
    "        # finalize run\n",
    "        wandb.join()"
   ]
  },
  {
   "cell_type": "code",
   "execution_count": null,
   "metadata": {},
   "outputs": [],
   "source": [
    "if TEST:\n",
    "    if PREDICT_SLOPE:\n",
    "        predictions = np.mean(predictions,axis = 0)\n",
    "        for i in range(1,len(test_data)+1):\n",
    "            submission.loc[i,\"FVC\"] = test_data.loc[i-1,\"FVC\"] + predictions[i-1,0]*test_data.loc[i-1,\"Weekdiff_target\"]\n",
    "            submission.loc[i, \"Confidence\"] = abs(predictions[i-1,1]*test_data.loc[i-1,\"Weekdiff_target\"])\n",
    "    else:\n",
    "        predictions = np.abs(predictions)\n",
    "        predictions[:,:,1] = np.power(predictions[:,:,1],2)\n",
    "        predictions = np.mean(predictions, axis = 0)\n",
    "        predictions[:,1] = np.power(predictions[:,1],0.5)\n",
    "        for i in range(1,len(test_data)+1):\n",
    "            submission.loc[i,\"FVC\"] = predictions[i-1,0]\n",
    "            submission.loc[i, \"Confidence\"] = predictions[i-1,1]\n",
    "    submission.to_csv(\"submission.csv\", index = False)"
   ]
  },
  {
   "cell_type": "code",
   "execution_count": null,
   "metadata": {},
   "outputs": [],
   "source": [
    "backup = predictions"
   ]
  },
  {
   "cell_type": "code",
   "execution_count": null,
   "metadata": {},
   "outputs": [],
   "source": [
    "import matplotlib.pyplot as plt\n",
    "from scipy.stats import gmean\n",
    "if PSEUDO_TEST_PATIENTS > 0:\n",
    "    result = []\n",
    "    for i in range(-20,20):\n",
    "        predictions = np.abs(backup)\n",
    "        if i == 0:\n",
    "            predictions[:,:,1] = gmean(predictions[:,:,1], axis = 0)\n",
    "            predictions = np.mean(predictions, axis = 0)\n",
    "        else:\n",
    "            predictions[:,:,1] = np.power(predictions[:,:,1],i)\n",
    "            predictions = np.mean(predictions, axis = 0)\n",
    "            predictions[:,1] = np.power(predictions[:,1],1/i)\n",
    "        FVC_true = test_check[\"TargetFVC\"].values\n",
    "        FVC_pred = predictions[:,0]\n",
    "        sigma = predictions[:,1]\n",
    "\n",
    "        sigma_clip = np.maximum(np.abs(sigma), 70)\n",
    "        delta = np.abs(FVC_true - FVC_pred)\n",
    "        delta = np.minimum(delta, 1000)\n",
    "\n",
    "        sq2 = np.sqrt(2)\n",
    "        loss = (delta / sigma_clip)*sq2 + tf.math.log(sigma_clip * sq2)\n",
    "        result.append(np.mean(loss))\n",
    "    plt.plot(np.arange(-20,20),result)\n"
   ]
  },
  {
   "cell_type": "code",
   "execution_count": null,
   "metadata": {},
   "outputs": [],
   "source": []
  }
 ],
 "metadata": {
  "kernelspec": {
   "display_name": "Python 3",
   "language": "python",
   "name": "python3"
  },
  "language_info": {
   "codemirror_mode": {
    "name": "ipython",
    "version": 3
   },
   "file_extension": ".py",
   "mimetype": "text/x-python",
   "name": "python",
   "nbconvert_exporter": "python",
   "pygments_lexer": "ipython3",
   "version": "3.7.6"
  }
 },
 "nbformat": 4,
 "nbformat_minor": 4
}
